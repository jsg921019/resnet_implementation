{
 "cells": [
  {
   "cell_type": "code",
   "execution_count": 10,
   "id": "5725fbb7-fe6f-431a-a422-c3b7cc08f0b1",
   "metadata": {},
   "outputs": [],
   "source": [
    "import torch\n",
    "import torch.nn as nn\n",
    "from torchinfo import summary\n",
    "\n",
    "def residual_function(in_channels, out_channels, stride, bottleneck_ratio):\n",
    "    \n",
    "    if bottleneck_ratio == 1:\n",
    "        block = nn.Sequential(nn.Conv2d(in_channels, out_channels, kernel_size=3, stride=stride, padding=1, bias=False),\n",
    "                              nn.BatchNorm2d(out_channels),\n",
    "                              nn.ReLU(inplace=True),\n",
    "                              nn.Conv2d(out_channels, out_channels, kernel_size=3, padding=1, bias=False),\n",
    "                              nn.BatchNorm2d(out_channels))\n",
    "    else:\n",
    "        block = nn.Sequential(nn.Conv2d(in_channels, out_channels, kernel_size=1, bias=False),\n",
    "                              nn.BatchNorm2d(out_channels),\n",
    "                              nn.ReLU(inplace=True),\n",
    "                              nn.Conv2d(out_channels, out_channels, kernel_size=3, stride=stride, padding=1, bias=False),\n",
    "                              nn.BatchNorm2d(out_channels),\n",
    "                              nn.ReLU(inplace=True),\n",
    "                              nn.Conv2d(out_channels, out_channels * bottleneck_ratio, kernel_size=1, bias=False),\n",
    "                              nn.BatchNorm2d(out_channels * bottleneck_ratio))  \n",
    "    return block\n",
    "\n",
    "\n",
    "def shortcut_function(in_channels, out_channels, stride, bottleneck_ratio):\n",
    "    \n",
    "    if stride != 1 or in_channels != out_channels * bottleneck_ratio:\n",
    "        shortcut = nn.Sequential(nn.Conv2d(in_channels, out_channels * bottleneck_ratio, kernel_size=1, stride=stride, bias=False),\n",
    "                                 nn.BatchNorm2d(out_channels * bottleneck_ratio))\n",
    "    else:\n",
    "        shortcut = lambda x: x\n",
    "    \n",
    "    return shortcut\n",
    "            "
   ]
  },
  {
   "cell_type": "markdown",
   "id": "ac0161b1-83c6-4e6d-a11d-9aee8ff5a3e8",
   "metadata": {},
   "source": [
    "<img src='img/resnet_blocks.png' width=50%/>"
   ]
  },
  {
   "cell_type": "code",
   "execution_count": 11,
   "id": "20740df4-7197-413e-88f5-407f0594cdd9",
   "metadata": {},
   "outputs": [],
   "source": [
    "class ResidualBlock(nn.Module):\n",
    "    \n",
    "    def __init__(self, in_channels, out_channels, stride, bottleneck_ratio):\n",
    "\n",
    "        super(ResidualBlock, self).__init__()\n",
    "\n",
    "        self.F = residual_function(in_channels, out_channels, stride, bottleneck_ratio)\n",
    "        self.shortcut = shortcut_function(in_channels, out_channels, stride, bottleneck_ratio)\n",
    "        self.relu = nn.ReLU(inplace=True)\n",
    "\n",
    "    def forward(self, x):\n",
    "\n",
    "        H = self.F(x) + self.shortcut(x)\n",
    "        return self.relu(H)"
   ]
  },
  {
   "cell_type": "markdown",
   "id": "3714de10-228a-41fe-8586-327a43244681",
   "metadata": {},
   "source": [
    "<img src='img/resnet_architectures.png' width=90% />"
   ]
  },
  {
   "cell_type": "code",
   "execution_count": 12,
   "id": "bd7dab5c-5a68-4966-9073-da7e4ed14852",
   "metadata": {},
   "outputs": [],
   "source": [
    "resnet_configs = {\n",
    "    'resnet18' : {'layer_configs' : [(64, 1, 2), (128, 2, 2), (256, 2, 2), (512, 2, 2)], 'bottleneck_ratio' : 1, 'first_in_channels' : 64},\n",
    "    'resnet34' : {'layer_configs' : [(64, 1, 3), (128, 2, 4), (256, 2, 6), (512, 2, 3)], 'bottleneck_ratio' : 1, 'first_in_channels' : 64},\n",
    "    'resnet50' : {'layer_configs' : [(64, 1, 3), (128, 2, 4), (256, 2, 6), (512, 2, 3)], 'bottleneck_ratio' : 4, 'first_in_channels' : 64},\n",
    "    'resnet101' : {'layer_configs' : [(64, 1, 3), (128, 2, 4), (256, 2, 23), (512, 2, 3)], 'bottleneck_ratio' : 4, 'first_in_channels' : 64},\n",
    "    'resnet152' : {'layer_configs' : [(64, 1, 3), (128, 2, 8), (256, 2, 36), (512, 2, 3)], 'bottleneck_ratio' : 4, 'first_in_channels' : 64},\n",
    "}"
   ]
  },
  {
   "cell_type": "code",
   "execution_count": 13,
   "id": "84352f3e-ada9-4635-9075-3e697b2ca930",
   "metadata": {},
   "outputs": [],
   "source": [
    "class ResNet(nn.Module):\n",
    "\n",
    "    def __init__(self, layer_configs, bottleneck_ratio, num_classes=1000, first_in_channels=64):\n",
    "\n",
    "        super(ResNet, self).__init__()\n",
    "\n",
    "        self.conv1 = nn.Sequential(nn.Conv2d(3, first_in_channels, kernel_size=7, stride=2, padding=3, bias=False),\n",
    "                                    nn.BatchNorm2d(first_in_channels),\n",
    "                                    nn.ReLU(inplace=True),\n",
    "                                    nn.MaxPool2d(kernel_size=3, stride=2, padding=1))\n",
    "\n",
    "        layers = []\n",
    "        in_channels = first_in_channels\n",
    "\n",
    "        for out_channels, stride, n in layer_configs: \n",
    "            for i in range (n):\n",
    "                layers.append(ResidualBlock(in_channels, out_channels, stride if i==0 else 1, bottleneck_ratio))\n",
    "                in_channels = out_channels * bottleneck_ratio\n",
    "\n",
    "        self.convs = nn.Sequential(*layers)\n",
    "        self.avgpool = nn.AdaptiveAvgPool2d(1)\n",
    "        self.fc = nn.Linear(in_channels, num_classes)\n",
    "        \n",
    "        self._init_weights()\n",
    "\n",
    "    def _init_weights(self):\n",
    "\n",
    "        for m in self.modules():\n",
    "            if isinstance(m, nn.Conv2d):\n",
    "                nn.init.kaiming_normal_(m.weight, mode='fan_out', nonlinearity='relu')\n",
    "            elif isinstance(m, (nn.BatchNorm2d)):\n",
    "                nn.init.constant_(m.weight, 1)\n",
    "                nn.init.constant_(m.bias, 0)\n",
    "\n",
    "    def forward(self, x):\n",
    "        \n",
    "        x = self.conv1(x)\n",
    "        x = self.convs(x)\n",
    "        x = self.avgpool(x)\n",
    "        x = torch.flatten(x, 1)\n",
    "        x = self.fc(x)\n",
    "\n",
    "        return x"
   ]
  },
  {
   "cell_type": "code",
   "execution_count": 14,
   "id": "a95f3d85-78f6-4129-817a-570560c536c3",
   "metadata": {},
   "outputs": [],
   "source": [
    "n = 1\n",
    "first_in_channels = 32\n",
    "\n",
    "model = ResNet(layer_configs=[(16, 1, n), (32, 2, n), (64, 2, n)], bottleneck_ratio=1, first_in_channels=first_in_channels, num_classes=10)\n",
    "model.conv1 = nn.Sequential(nn.Conv2d(3, first_in_channels, kernel_size=3, stride=1, padding=1, bias=False),\n",
    "                                    nn.BatchNorm2d(first_in_channels),\n",
    "                                    nn.ReLU(inplace=True))"
   ]
  },
  {
   "cell_type": "code",
   "execution_count": 15,
   "id": "00764f1e-ccce-44ef-b2f4-806aedb7d640",
   "metadata": {},
   "outputs": [
    {
     "data": {
      "text/plain": [
       "==========================================================================================\n",
       "Layer (type:depth-idx)                   Output Shape              Param #\n",
       "==========================================================================================\n",
       "ResNet                                   --                        --\n",
       "├─Sequential: 1-1                        [1, 32, 32, 32]           --\n",
       "│    └─Conv2d: 2-1                       [1, 32, 32, 32]           864\n",
       "│    └─BatchNorm2d: 2-2                  [1, 32, 32, 32]           64\n",
       "│    └─ReLU: 2-3                         [1, 32, 32, 32]           --\n",
       "├─Sequential: 1-2                        [1, 64, 8, 8]             --\n",
       "│    └─ResidualBlock: 2-4                [1, 16, 32, 32]           --\n",
       "│    │    └─Sequential: 3-1              [1, 16, 32, 32]           6,976\n",
       "│    │    └─Sequential: 3-2              [1, 16, 32, 32]           544\n",
       "│    │    └─ReLU: 3-3                    [1, 16, 32, 32]           --\n",
       "│    └─ResidualBlock: 2-5                [1, 32, 16, 16]           --\n",
       "│    │    └─Sequential: 3-4              [1, 32, 16, 16]           13,952\n",
       "│    │    └─Sequential: 3-5              [1, 32, 16, 16]           576\n",
       "│    │    └─ReLU: 3-6                    [1, 32, 16, 16]           --\n",
       "│    └─ResidualBlock: 2-6                [1, 64, 8, 8]             --\n",
       "│    │    └─Sequential: 3-7              [1, 64, 8, 8]             55,552\n",
       "│    │    └─Sequential: 3-8              [1, 64, 8, 8]             2,176\n",
       "│    │    └─ReLU: 3-9                    [1, 64, 8, 8]             --\n",
       "├─AdaptiveAvgPool2d: 1-3                 [1, 64, 1, 1]             --\n",
       "├─Linear: 1-4                            [1, 10]                   650\n",
       "==========================================================================================\n",
       "Total params: 81,354\n",
       "Trainable params: 81,354\n",
       "Non-trainable params: 0\n",
       "Total mult-adds (M): 15.83\n",
       "==========================================================================================\n",
       "Input size (MB): 0.01\n",
       "Forward/backward pass size (MB): 1.90\n",
       "Params size (MB): 0.33\n",
       "Estimated Total Size (MB): 2.24\n",
       "=========================================================================================="
      ]
     },
     "execution_count": 15,
     "metadata": {},
     "output_type": "execute_result"
    }
   ],
   "source": [
    "summary(model, (1, 3, 32, 32))"
   ]
  },
  {
   "cell_type": "code",
   "execution_count": null,
   "id": "7724e246-7c38-4e8c-8514-2151ca77e6ec",
   "metadata": {},
   "outputs": [],
   "source": []
  }
 ],
 "metadata": {
  "kernelspec": {
   "display_name": "pytorch",
   "language": "python",
   "name": "pytorch"
  },
  "language_info": {
   "codemirror_mode": {
    "name": "ipython",
    "version": 3
   },
   "file_extension": ".py",
   "mimetype": "text/x-python",
   "name": "python",
   "nbconvert_exporter": "python",
   "pygments_lexer": "ipython3",
   "version": "3.9.6"
  }
 },
 "nbformat": 4,
 "nbformat_minor": 5
}
